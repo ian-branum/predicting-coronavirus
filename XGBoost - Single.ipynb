{
 "cells": [
  {
   "cell_type": "code",
   "execution_count": 1,
   "metadata": {},
   "outputs": [],
   "source": [
    "%load_ext autoreload\n",
    "%autoreload 2"
   ]
  },
  {
   "cell_type": "code",
   "execution_count": 2,
   "metadata": {},
   "outputs": [
    {
     "name": "stdout",
     "output_type": "stream",
     "text": [
      "/root/predicting-coronavirus\n"
     ]
    }
   ],
   "source": [
    "import pandas as pd\n",
    "import numpy as np\n",
    "import matplotlib.pyplot as plt\n",
    "import io\n",
    "import os\n",
    "import sys\n",
    "import time\n",
    "import json\n",
    "from IPython.display import display\n",
    "from time import strftime, gmtime\n",
    "import boto3\n",
    "import re\n",
    "from datetime import datetime\n",
    "\n",
    "import sagemaker\n",
    "from sagemaker import get_execution_role\n",
    "from sagemaker.predictor import csv_serializer\n",
    "from sagemaker.debugger import rule_configs, Rule, DebuggerHookConfig\n",
    "from sagemaker.model_monitor import DataCaptureConfig, DatasetFormat, DefaultModelMonitor\n",
    "from sagemaker.s3 import S3Uploader, S3Downloader\n",
    "\n",
    "from smexperiments.experiment import Experiment\n",
    "from smexperiments.trial import Trial\n",
    "from smexperiments.trial_component import TrialComponent\n",
    "from smexperiments.tracker import Tracker\n",
    "\n",
    "%cd /root/predicting-coronavirus\n",
    "#%pip install mpu\n",
    "import src.data_import as di\n",
    "import src.data_tools as dt\n",
    "\n",
    "%matplotlib inline\n",
    "pd.set_option('display.max_columns', 500)  \n",
    "pd.set_option('display.max_rows', 500)   "
   ]
  },
  {
   "cell_type": "code",
   "execution_count": 4,
   "metadata": {},
   "outputs": [],
   "source": [
    "sess = boto3.Session()\n",
    "sm = sess.client('sagemaker')\n",
    "role = sagemaker.get_execution_role()"
   ]
  },
  {
   "cell_type": "code",
   "execution_count": 15,
   "metadata": {},
   "outputs": [
    {
     "name": "stdout",
     "output_type": "stream",
     "text": [
      "s3://sagemaker-studio-us-east-1-752222400982/capstone2/merged/val2.csv\n"
     ]
    }
   ],
   "source": [
    "account_id = sess.client('sts', region_name=sess.region_name).get_caller_identity()[\"Account\"]\n",
    "bucket = 'sagemaker-studio-{}-{}'.format(sess.region_name, account_id)\n",
    "prefix = 'capstone2'\n",
    "\n",
    "try:\n",
    "    if sess.region_name == \"us-east-1\":\n",
    "        sess.client('s3').create_bucket(Bucket=bucket)\n",
    "    else:\n",
    "        sess.client('s3').create_bucket(Bucket=bucket, \n",
    "                                        CreateBucketConfiguration={'LocationConstraint': sess.region_name})\n",
    "except Exception as e:\n",
    "    print(\"Looks like you already have a bucket of this name. That's good. Uploading the data files...\")\n",
    "\n",
    "# Return the URLs of the uploaded file, so they can be reviewed or used elsewhere\n",
    "s3url = S3Uploader.upload('data/train2.csv', 's3://{}/{}/{}'.format(bucket, prefix,'merged'))\n",
    "s3url = S3Uploader.upload('data/val2.csv', 's3://{}/{}/{}'.format(bucket, prefix,'merged'))\n",
    "print(s3url)\n"
   ]
  },
  {
   "cell_type": "code",
   "execution_count": 16,
   "metadata": {},
   "outputs": [],
   "source": [
    "from sagemaker.amazon.amazon_estimator import get_image_uri\n",
    "docker_image_name = get_image_uri(boto3.Session().region_name, 'xgboost', repo_version='1.0-1')"
   ]
  },
  {
   "cell_type": "code",
   "execution_count": 17,
   "metadata": {},
   "outputs": [],
   "source": [
    "s3_input_train = sagemaker.s3_input(s3_data='s3://sagemaker-studio-us-east-1-752222400982/capstone2/merged/train2.csv', content_type='csv')\n",
    "s3_input_test = sagemaker.s3_input(s3_data='s3://sagemaker-studio-us-east-1-752222400982/capstone2/merged/val2.csv', content_type='csv')\n"
   ]
  },
  {
   "cell_type": "code",
   "execution_count": 18,
   "metadata": {},
   "outputs": [],
   "source": [
    "smsess = sagemaker.session.Session()\n",
    "\n",
    "create_date = strftime(\"%Y-%m-%d-%H-%M-%S\", gmtime())\n",
    "coronavirus_xgb_experiment = Experiment.create(experiment_name=\"predicting-coronavirus-cases-xgboost-{}\".format(create_date), \n",
    "                                              description=\"Using xgboost to predict coronavirus cases\", \n",
    "                                              sagemaker_boto_client=boto3.client('sagemaker'))"
   ]
  },
  {
   "cell_type": "code",
   "execution_count": 19,
   "metadata": {},
   "outputs": [],
   "source": [
    "hyperparams = {\"max_depth\":12,\n",
    "               \"subsample\":0.7,\n",
    "               \"num_round\":50,\n",
    "               \"eta\":0.1,\n",
    "               \"gamma\":4,\n",
    "               \"min_child_weight\":8,\n",
    "               \"verbosity\":0,\n",
    "               \"alpha\":1\n",
    "              } #,\n",
    "               #\"objective\":'binary:logistic'}"
   ]
  },
  {
   "cell_type": "code",
   "execution_count": 20,
   "metadata": {},
   "outputs": [
    {
     "name": "stderr",
     "output_type": "stream",
     "text": [
      "INFO:sagemaker:Creating training-job with name: xgboost-coronavirus-2020-05-14-23-33-58-032\n"
     ]
    },
    {
     "name": "stdout",
     "output_type": "stream",
     "text": [
      "2020-05-14 23:33:58 Starting - Starting the training job...\n",
      "2020-05-14 23:34:00 Starting - Launching requested ML instances......\n",
      "2020-05-14 23:35:09 Starting - Preparing the instances for training......\n",
      "2020-05-14 23:36:12 Downloading - Downloading input data...\n",
      "2020-05-14 23:36:37 Training - Downloading the training image..\u001b[34mINFO:sagemaker-containers:Imported framework sagemaker_xgboost_container.training\u001b[0m\n",
      "\u001b[34mINFO:sagemaker-containers:No GPUs detected (normal if no gpus installed)\u001b[0m\n",
      "\u001b[34mINFO:sagemaker_xgboost_container.training:Running XGBoost Sagemaker in algorithm mode\u001b[0m\n",
      "\u001b[34mINFO:root:Determined delimiter of CSV input is ','\u001b[0m\n",
      "\u001b[34mINFO:root:Determined delimiter of CSV input is ','\u001b[0m\n",
      "\u001b[34mINFO:root:Determined delimiter of CSV input is ','\u001b[0m\n",
      "\u001b[34m[23:37:06] 39256x15 matrix with 588840 entries loaded from /opt/ml/input/data/train?format=csv&label_column=0&delimiter=,\u001b[0m\n",
      "\u001b[34mINFO:root:Determined delimiter of CSV input is ','\u001b[0m\n",
      "\u001b[34m[23:37:06] 4362x15 matrix with 65430 entries loaded from /opt/ml/input/data/validation?format=csv&label_column=0&delimiter=,\u001b[0m\n",
      "\u001b[34mINFO:root:Single node training.\u001b[0m\n",
      "\u001b[34mINFO:root:Train matrix has 39256 rows\u001b[0m\n",
      "\u001b[34mINFO:root:Validation matrix has 4362 rows\u001b[0m\n",
      "\u001b[34m[0]#011train-rmse:290.06052#011validation-rmse:282.48523\u001b[0m\n",
      "\u001b[34m[1]#011train-rmse:275.66895#011validation-rmse:268.78451\u001b[0m\n",
      "\u001b[34m[2]#011train-rmse:263.37314#011validation-rmse:257.28027\u001b[0m\n",
      "\u001b[34m[3]#011train-rmse:253.06494#011validation-rmse:247.45047\u001b[0m\n",
      "\u001b[34m[4]#011train-rmse:244.14728#011validation-rmse:239.20283\u001b[0m\n",
      "\u001b[34m[5]#011train-rmse:236.46271#011validation-rmse:232.34907\u001b[0m\n",
      "\u001b[34m[6]#011train-rmse:230.14870#011validation-rmse:226.63600\u001b[0m\n",
      "\u001b[34m[7]#011train-rmse:224.77872#011validation-rmse:221.95645\u001b[0m\n",
      "\u001b[34m[8]#011train-rmse:220.14229#011validation-rmse:217.92722\u001b[0m\n",
      "\u001b[34m[9]#011train-rmse:216.54526#011validation-rmse:214.88655\u001b[0m\n",
      "\u001b[34m[10]#011train-rmse:213.55882#011validation-rmse:212.34283\u001b[0m\n",
      "\u001b[34m[11]#011train-rmse:210.83987#011validation-rmse:210.30382\u001b[0m\n",
      "\u001b[34m[12]#011train-rmse:208.64050#011validation-rmse:208.56372\u001b[0m\n",
      "\u001b[34m[13]#011train-rmse:207.05839#011validation-rmse:207.57570\u001b[0m\n",
      "\u001b[34m[14]#011train-rmse:205.51710#011validation-rmse:206.40124\u001b[0m\n",
      "\u001b[34m[15]#011train-rmse:204.40779#011validation-rmse:205.70900\u001b[0m\n",
      "\u001b[34m[16]#011train-rmse:203.47627#011validation-rmse:205.23680\u001b[0m\n",
      "\u001b[34m[17]#011train-rmse:202.66332#011validation-rmse:204.70926\u001b[0m\n",
      "\u001b[34m[18]#011train-rmse:202.03920#011validation-rmse:204.36173\u001b[0m\n",
      "\u001b[34m[19]#011train-rmse:201.46063#011validation-rmse:203.90576\u001b[0m\n",
      "\u001b[34m[20]#011train-rmse:200.94214#011validation-rmse:203.75468\u001b[0m\n",
      "\u001b[34m[21]#011train-rmse:200.56122#011validation-rmse:203.60864\u001b[0m\n",
      "\u001b[34m[22]#011train-rmse:200.25417#011validation-rmse:203.41846\u001b[0m\n",
      "\u001b[34m[23]#011train-rmse:199.98326#011validation-rmse:203.51599\u001b[0m\n",
      "\u001b[34m[24]#011train-rmse:199.81662#011validation-rmse:203.58490\u001b[0m\n",
      "\u001b[34m[25]#011train-rmse:199.66211#011validation-rmse:203.78656\u001b[0m\n",
      "\u001b[34m[26]#011train-rmse:199.58098#011validation-rmse:203.68031\u001b[0m\n",
      "\u001b[34m[27]#011train-rmse:199.49321#011validation-rmse:203.61728\u001b[0m\n",
      "\u001b[34m[28]#011train-rmse:199.36614#011validation-rmse:203.72688\u001b[0m\n",
      "\u001b[34m[29]#011train-rmse:199.31528#011validation-rmse:203.58469\u001b[0m\n",
      "\u001b[34m[30]#011train-rmse:199.25218#011validation-rmse:203.71834\u001b[0m\n",
      "\u001b[34m[31]#011train-rmse:199.21643#011validation-rmse:203.63397\u001b[0m\n",
      "\u001b[34m[32]#011train-rmse:199.19269#011validation-rmse:203.70021\u001b[0m\n",
      "\u001b[34m[33]#011train-rmse:199.15903#011validation-rmse:203.93484\u001b[0m\n",
      "\u001b[34m[34]#011train-rmse:199.14465#011validation-rmse:203.80629\u001b[0m\n",
      "\u001b[34m[35]#011train-rmse:199.13551#011validation-rmse:203.73210\u001b[0m\n",
      "\u001b[34m[36]#011train-rmse:199.12125#011validation-rmse:203.66180\u001b[0m\n",
      "\u001b[34m[37]#011train-rmse:199.09401#011validation-rmse:203.79652\u001b[0m\n",
      "\u001b[34m[38]#011train-rmse:199.08618#011validation-rmse:203.68918\u001b[0m\n",
      "\u001b[34m[39]#011train-rmse:199.06555#011validation-rmse:203.63634\u001b[0m\n",
      "\u001b[34m[40]#011train-rmse:199.02812#011validation-rmse:203.61470\u001b[0m\n",
      "\u001b[34m[41]#011train-rmse:199.02190#011validation-rmse:203.66595\u001b[0m\n",
      "\u001b[34m[42]#011train-rmse:199.00540#011validation-rmse:203.69760\u001b[0m\n",
      "\u001b[34m[43]#011train-rmse:198.99124#011validation-rmse:203.82161\u001b[0m\n",
      "\u001b[34m[44]#011train-rmse:198.98540#011validation-rmse:203.89275\u001b[0m\n",
      "\u001b[34m[45]#011train-rmse:198.98422#011validation-rmse:203.91476\u001b[0m\n",
      "\u001b[34m[46]#011train-rmse:198.98541#011validation-rmse:204.00372\u001b[0m\n",
      "\u001b[34m[47]#011train-rmse:198.97734#011validation-rmse:204.06012\u001b[0m\n",
      "\u001b[34m[48]#011train-rmse:198.97823#011validation-rmse:204.08643\u001b[0m\n",
      "\u001b[34m[49]#011train-rmse:198.97994#011validation-rmse:204.18730\u001b[0m\n",
      "\n",
      "2020-05-14 23:37:17 Uploading - Uploading generated training model\n",
      "2020-05-14 23:37:17 Completed - Training job completed\n",
      "Training seconds: 65\n",
      "Billable seconds: 23\n",
      "Managed Spot Training savings: 64.6%\n"
     ]
    }
   ],
   "source": [
    "trial = Trial.create(trial_name=\"algorithm-mode-trial-{}\".format(strftime(\"%Y-%m-%d-%H-%M-%S\", gmtime())), \n",
    "                     experiment_name=coronavirus_xgb_experiment.experiment_name,\n",
    "                     sagemaker_boto_client=boto3.client('sagemaker'))\n",
    "\n",
    "xgb = sagemaker.estimator.Estimator(image_name=docker_image_name,\n",
    "                                    role=role,\n",
    "                                    hyperparameters=hyperparams,\n",
    "                                    train_instance_count=1, \n",
    "                                    train_use_spot_instances=True,\n",
    "                                    train_max_run=300,\n",
    "                                    train_max_wait=600,\n",
    "                                    train_instance_type='ml.m4.xlarge',\n",
    "                                    output_path='s3://{}/{}/output'.format(bucket, prefix),\n",
    "                                    base_job_name=\"xgboost-coronavirus\",\n",
    "                                    sagemaker_session=smsess)\n",
    "\n",
    "xgb.fit({'train': s3_input_train,\n",
    "         'validation': s3_input_test}, \n",
    "        experiment_config={\n",
    "            \"ExperimentName\": coronavirus_xgb_experiment.experiment_name, \n",
    "            \"TrialName\": trial.trial_name,\n",
    "            \"TrialComponentDisplayName\": \"Training-new-data\",\n",
    "        }\n",
    "       )    "
   ]
  },
  {
   "cell_type": "code",
   "execution_count": null,
   "metadata": {},
   "outputs": [],
   "source": []
  },
  {
   "cell_type": "code",
   "execution_count": null,
   "metadata": {},
   "outputs": [],
   "source": []
  },
  {
   "cell_type": "code",
   "execution_count": null,
   "metadata": {},
   "outputs": [],
   "source": []
  },
  {
   "cell_type": "code",
   "execution_count": null,
   "metadata": {},
   "outputs": [],
   "source": []
  },
  {
   "cell_type": "code",
   "execution_count": null,
   "metadata": {},
   "outputs": [],
   "source": []
  },
  {
   "cell_type": "code",
   "execution_count": null,
   "metadata": {},
   "outputs": [],
   "source": []
  },
  {
   "cell_type": "code",
   "execution_count": null,
   "metadata": {},
   "outputs": [],
   "source": []
  },
  {
   "cell_type": "code",
   "execution_count": null,
   "metadata": {},
   "outputs": [],
   "source": []
  },
  {
   "cell_type": "code",
   "execution_count": null,
   "metadata": {},
   "outputs": [],
   "source": [
    "\n",
    "\n",
    "\n"
   ]
  }
 ],
 "metadata": {
  "instance_type": "ml.t3.medium",
  "kernelspec": {
   "display_name": "Python 3 (Data Science)",
   "language": "python",
   "name": "python3__SAGEMAKER_INTERNAL__arn:aws:sagemaker:us-east-1:081325390199:image/datascience-1.0"
  },
  "language_info": {
   "codemirror_mode": {
    "name": "ipython",
    "version": 3
   },
   "file_extension": ".py",
   "mimetype": "text/x-python",
   "name": "python",
   "nbconvert_exporter": "python",
   "pygments_lexer": "ipython3",
   "version": "3.7.6"
  }
 },
 "nbformat": 4,
 "nbformat_minor": 4
}
