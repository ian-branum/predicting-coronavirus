{
 "cells": [
  {
   "cell_type": "code",
   "execution_count": 31,
   "metadata": {},
   "outputs": [
    {
     "name": "stdout",
     "output_type": "stream",
     "text": [
      "The autoreload extension is already loaded. To reload it, use:\n",
      "  %reload_ext autoreload\n"
     ]
    }
   ],
   "source": [
    "%load_ext autoreload\n",
    "%autoreload 2"
   ]
  },
  {
   "cell_type": "code",
   "execution_count": 32,
   "metadata": {},
   "outputs": [],
   "source": [
    "#import sys\n",
    "#!{sys.executable} -m pip install sagemaker -U\n",
    "#!{sys.executable} -m pip install sagemaker-experiments"
   ]
  },
  {
   "cell_type": "code",
   "execution_count": 33,
   "metadata": {},
   "outputs": [
    {
     "name": "stdout",
     "output_type": "stream",
     "text": [
      "/root/predicting-coronavirus\n",
      "Requirement already satisfied: mpu in /opt/conda/lib/python3.7/site-packages (0.23.0)\n",
      "Note: you may need to restart the kernel to use updated packages.\n"
     ]
    }
   ],
   "source": [
    "import pandas as pd\n",
    "import numpy as np\n",
    "import matplotlib.pyplot as plt\n",
    "import io\n",
    "import os\n",
    "import sys\n",
    "import time\n",
    "import json\n",
    "from IPython.display import display\n",
    "from time import strftime, gmtime\n",
    "import boto3\n",
    "import re\n",
    "from datetime import datetime\n",
    "\n",
    "import sagemaker\n",
    "from sagemaker import get_execution_role\n",
    "from sagemaker.predictor import csv_serializer\n",
    "from sagemaker.debugger import rule_configs, Rule, DebuggerHookConfig\n",
    "from sagemaker.model_monitor import DataCaptureConfig, DatasetFormat, DefaultModelMonitor\n",
    "from sagemaker.s3 import S3Uploader, S3Downloader\n",
    "\n",
    "from smexperiments.experiment import Experiment\n",
    "from smexperiments.trial import Trial\n",
    "from smexperiments.trial_component import TrialComponent\n",
    "from smexperiments.tracker import Tracker\n",
    "from sklearn.model_selection import train_test_split\n",
    "\n",
    "%cd /root/predicting-coronavirus\n",
    "%pip install mpu\n",
    "import src.data_import as di\n",
    "#import src.data_tools as dt\n",
    "import src.airport_index as ap\n",
    "\n",
    "%matplotlib inline\n",
    "pd.set_option('display.max_columns', 500)  \n",
    "pd.set_option('display.max_rows', 500)   "
   ]
  },
  {
   "cell_type": "code",
   "execution_count": 34,
   "metadata": {},
   "outputs": [],
   "source": [
    "sess = boto3.Session()\n",
    "sm = sess.client('sagemaker')\n",
    "role = sagemaker.get_execution_role()"
   ]
  },
  {
   "cell_type": "code",
   "execution_count": 7,
   "metadata": {},
   "outputs": [
    {
     "name": "stdout",
     "output_type": "stream",
     "text": [
      "remote: Enumerating objects: 14, done.\u001b[K\n",
      "remote: Counting objects: 100% (14/14), done.\u001b[K\n",
      "remote: Compressing objects: 100% (5/5), done.\u001b[K\n",
      "remote: Total 15 (delta 9), reused 14 (delta 9), pack-reused 1\u001b[K\n",
      "Unpacking objects: 100% (15/15), done.\n",
      "From https://github.com/nytimes/covid-19-data\n",
      " * branch            master     -> FETCH_HEAD\n",
      "   b761184..c95c96f  master     -> origin/master\n",
      "Updating b761184..c95c96f\n",
      "Fast-forward\n",
      " README.md            |   53 \u001b[32m+\u001b[m\u001b[31m-\u001b[m\n",
      " live/us-counties.csv | 2998 \u001b[32m++++++++++++++++++++++++++\u001b[m\n",
      " live/us-states.csv   |   56 \u001b[32m+\u001b[m\n",
      " live/us.csv          |    2 \u001b[32m+\u001b[m\n",
      " us-counties.csv      | 5841 \u001b[32m+++++++++++++++++++++++++++++++++++++++++++++++++\u001b[m\u001b[31m-\u001b[m\n",
      " us-states.csv        |  114 \u001b[32m+\u001b[m\u001b[31m-\u001b[m\n",
      " us.csv               |    4 \u001b[32m+\u001b[m\u001b[31m-\u001b[m\n",
      " 7 files changed, 9054 insertions(+), 14 deletions(-)\n",
      " create mode 100644 live/us-counties.csv\n",
      " create mode 100644 live/us-states.csv\n",
      " create mode 100644 live/us.csv\n"
     ]
    }
   ],
   "source": [
    "!cd data/covid-19-data;git pull origin master"
   ]
  },
  {
   "cell_type": "code",
   "execution_count": 6,
   "metadata": {},
   "outputs": [
    {
     "name": "stdout",
     "output_type": "stream",
     "text": [
      "s3://sagemaker-studio-us-east-1-752222400982/capstone2/nyt/us-counties.csv\n"
     ]
    }
   ],
   "source": [
    "account_id = sess.client('sts', region_name=sess.region_name).get_caller_identity()[\"Account\"]\n",
    "bucket = 'sagemaker-studio-{}-{}'.format(sess.region_name, account_id)\n",
    "prefix = 'capstone2'\n",
    "\n",
    "try:\n",
    "    if sess.region_name == \"us-east-1\":\n",
    "        sess.client('s3').create_bucket(Bucket=bucket)\n",
    "    else:\n",
    "        sess.client('s3').create_bucket(Bucket=bucket, \n",
    "                                        CreateBucketConfiguration={'LocationConstraint': sess.region_name})\n",
    "except Exception as e:\n",
    "    print(\"Looks like you already have a bucket of this name. That's good. Uploading the data files...\")\n",
    "\n",
    "# Return the URLs of the uploaded file, so they can be reviewed or used elsewhere\n",
    "s3url = S3Uploader.upload('data/covid-19-data/us-counties.csv', 's3://{}/{}/{}'.format(bucket, prefix,'nyt'))\n",
    "print(s3url)\n"
   ]
  },
  {
   "cell_type": "code",
   "execution_count": 7,
   "metadata": {},
   "outputs": [],
   "source": [
    "#etl = dt.etl()\n",
    "#nyt = etl.load_nyt()\n",
    "nyt = di.extract_nyt()"
   ]
  },
  {
   "cell_type": "code",
   "execution_count": 8,
   "metadata": {},
   "outputs": [
    {
     "name": "stdout",
     "output_type": "stream",
     "text": [
      "<class 'pandas.core.frame.DataFrame'>\n",
      "Int64Index: 139802 entries, 0 to 141402\n",
      "Data columns (total 6 columns):\n",
      " #   Column  Non-Null Count   Dtype         \n",
      "---  ------  --------------   -----         \n",
      " 0   date    139802 non-null  datetime64[ns]\n",
      " 1   county  139802 non-null  object        \n",
      " 2   state   139802 non-null  object        \n",
      " 3   fips    139802 non-null  int64         \n",
      " 4   cases   139802 non-null  int64         \n",
      " 5   deaths  139802 non-null  int64         \n",
      "dtypes: datetime64[ns](1), int64(3), object(2)\n",
      "memory usage: 7.5+ MB\n"
     ]
    }
   ],
   "source": [
    "nyt_df.info()"
   ]
  },
  {
   "cell_type": "code",
   "execution_count": 9,
   "metadata": {},
   "outputs": [],
   "source": [
    "#Get the maximum cases and deaths for each fips\n",
    "max_cases = nyt.groupby('fips').max()\n",
    "max_cases = max_cases[['cases', 'deaths']]\n",
    "#max_cases['deaths'].sum()\n",
    "#max_cases"
   ]
  },
  {
   "cell_type": "code",
   "execution_count": 10,
   "metadata": {},
   "outputs": [
    {
     "name": "stderr",
     "output_type": "stream",
     "text": [
      "INFO:numexpr.utils:NumExpr defaulting to 2 threads.\n",
      "/root/predicting-coronavirus/src/data_import.py:137: SettingWithCopyWarning: \n",
      "A value is trying to be set on a copy of a slice from a DataFrame.\n",
      "Try using .loc[row_indexer,col_indexer] = value instead\n",
      "\n",
      "See the caveats in the documentation: https://pandas.pydata.org/pandas-docs/stable/user_guide/indexing.html#returning-a-view-versus-a-copy\n",
      "  ret['hs'] = ret['hs']/100\n",
      "/root/predicting-coronavirus/src/data_import.py:138: SettingWithCopyWarning: \n",
      "A value is trying to be set on a copy of a slice from a DataFrame.\n",
      "Try using .loc[row_indexer,col_indexer] = value instead\n",
      "\n",
      "See the caveats in the documentation: https://pandas.pydata.org/pandas-docs/stable/user_guide/indexing.html#returning-a-view-versus-a-copy\n",
      "  ret['ba_plus'] = ret['ba_plus']/100\n",
      "/root/predicting-coronavirus/src/data_import.py:139: SettingWithCopyWarning: \n",
      "A value is trying to be set on a copy of a slice from a DataFrame.\n",
      "Try using .loc[row_indexer,col_indexer] = value instead\n",
      "\n",
      "See the caveats in the documentation: https://pandas.pydata.org/pandas-docs/stable/user_guide/indexing.html#returning-a-view-versus-a-copy\n",
      "  ret['ma_plus'] = ret['ma_plus']/100\n"
     ]
    },
    {
     "name": "stdout",
     "output_type": "stream",
     "text": [
      "<class 'pandas.core.series.Series'>\n"
     ]
    }
   ],
   "source": [
    "hhi = di.extract_hhi()\n",
    "edu = di.extract_edu()\n",
    "pubtrans = di.extract_public_transport()\n",
    "housing = di.extract_housing()\n",
    "election = di.extract_election()\n",
    "geo = di.extract_geography()\n",
    "counties = ap.extract_geography()\n",
    "airports = ap.extract_airports()\n",
    "intl_index = ap.build_intl_arrivals_index_df2(counties, airports, 30, 200)\n",
    "sip = di.extract_sip()\n"
   ]
  },
  {
   "cell_type": "code",
   "execution_count": 46,
   "metadata": {},
   "outputs": [],
   "source": [
    "nyt = di.extract_nyt()"
   ]
  },
  {
   "cell_type": "code",
   "execution_count": 58,
   "metadata": {},
   "outputs": [
    {
     "data": {
      "text/html": [
       "<div>\n",
       "<style scoped>\n",
       "    .dataframe tbody tr th:only-of-type {\n",
       "        vertical-align: middle;\n",
       "    }\n",
       "\n",
       "    .dataframe tbody tr th {\n",
       "        vertical-align: top;\n",
       "    }\n",
       "\n",
       "    .dataframe thead th {\n",
       "        text-align: right;\n",
       "    }\n",
       "</style>\n",
       "<table border=\"1\" class=\"dataframe\">\n",
       "  <thead>\n",
       "    <tr style=\"text-align: right;\">\n",
       "      <th></th>\n",
       "      <th>fips</th>\n",
       "      <th>state</th>\n",
       "      <th>population</th>\n",
       "      <th>date</th>\n",
       "      <th>cases</th>\n",
       "      <th>deaths</th>\n",
       "      <th>death_rate</th>\n",
       "      <th>case_rate</th>\n",
       "    </tr>\n",
       "  </thead>\n",
       "  <tbody>\n",
       "    <tr>\n",
       "      <th>0</th>\n",
       "      <td>53061</td>\n",
       "      <td>Washington</td>\n",
       "      <td>713335</td>\n",
       "      <td>2020-01-21</td>\n",
       "      <td>1</td>\n",
       "      <td>0</td>\n",
       "      <td>0.0</td>\n",
       "      <td>0.140187</td>\n",
       "    </tr>\n",
       "    <tr>\n",
       "      <th>1</th>\n",
       "      <td>53061</td>\n",
       "      <td>Washington</td>\n",
       "      <td>713335</td>\n",
       "      <td>2020-01-22</td>\n",
       "      <td>1</td>\n",
       "      <td>0</td>\n",
       "      <td>0.0</td>\n",
       "      <td>0.140187</td>\n",
       "    </tr>\n",
       "    <tr>\n",
       "      <th>2</th>\n",
       "      <td>53061</td>\n",
       "      <td>Washington</td>\n",
       "      <td>713335</td>\n",
       "      <td>2020-01-23</td>\n",
       "      <td>1</td>\n",
       "      <td>0</td>\n",
       "      <td>0.0</td>\n",
       "      <td>0.140187</td>\n",
       "    </tr>\n",
       "    <tr>\n",
       "      <th>3</th>\n",
       "      <td>53061</td>\n",
       "      <td>Washington</td>\n",
       "      <td>713335</td>\n",
       "      <td>2020-01-24</td>\n",
       "      <td>1</td>\n",
       "      <td>0</td>\n",
       "      <td>0.0</td>\n",
       "      <td>0.140187</td>\n",
       "    </tr>\n",
       "    <tr>\n",
       "      <th>4</th>\n",
       "      <td>53061</td>\n",
       "      <td>Washington</td>\n",
       "      <td>713335</td>\n",
       "      <td>2020-01-25</td>\n",
       "      <td>1</td>\n",
       "      <td>0</td>\n",
       "      <td>0.0</td>\n",
       "      <td>0.140187</td>\n",
       "    </tr>\n",
       "    <tr>\n",
       "      <th>...</th>\n",
       "      <td>...</td>\n",
       "      <td>...</td>\n",
       "      <td>...</td>\n",
       "      <td>...</td>\n",
       "      <td>...</td>\n",
       "      <td>...</td>\n",
       "      <td>...</td>\n",
       "      <td>...</td>\n",
       "    </tr>\n",
       "    <tr>\n",
       "      <th>139797</th>\n",
       "      <td>31071</td>\n",
       "      <td>Nebraska</td>\n",
       "      <td>2049</td>\n",
       "      <td>2020-05-12</td>\n",
       "      <td>1</td>\n",
       "      <td>0</td>\n",
       "      <td>0.0</td>\n",
       "      <td>48.804295</td>\n",
       "    </tr>\n",
       "    <tr>\n",
       "      <th>139798</th>\n",
       "      <td>31071</td>\n",
       "      <td>Nebraska</td>\n",
       "      <td>2049</td>\n",
       "      <td>2020-05-13</td>\n",
       "      <td>1</td>\n",
       "      <td>0</td>\n",
       "      <td>0.0</td>\n",
       "      <td>48.804295</td>\n",
       "    </tr>\n",
       "    <tr>\n",
       "      <th>139799</th>\n",
       "      <td>17047</td>\n",
       "      <td>Illinois</td>\n",
       "      <td>6721</td>\n",
       "      <td>2020-05-13</td>\n",
       "      <td>2</td>\n",
       "      <td>0</td>\n",
       "      <td>0.0</td>\n",
       "      <td>29.757477</td>\n",
       "    </tr>\n",
       "    <tr>\n",
       "      <th>139800</th>\n",
       "      <td>19063</td>\n",
       "      <td>Iowa</td>\n",
       "      <td>10302</td>\n",
       "      <td>2020-05-13</td>\n",
       "      <td>1</td>\n",
       "      <td>0</td>\n",
       "      <td>0.0</td>\n",
       "      <td>9.706853</td>\n",
       "    </tr>\n",
       "    <tr>\n",
       "      <th>139801</th>\n",
       "      <td>31147</td>\n",
       "      <td>Nebraska</td>\n",
       "      <td>8363</td>\n",
       "      <td>2020-05-13</td>\n",
       "      <td>1</td>\n",
       "      <td>0</td>\n",
       "      <td>0.0</td>\n",
       "      <td>11.957432</td>\n",
       "    </tr>\n",
       "  </tbody>\n",
       "</table>\n",
       "<p>139802 rows × 8 columns</p>\n",
       "</div>"
      ],
      "text/plain": [
       "         fips       state  population       date  cases  deaths  death_rate  \\\n",
       "0       53061  Washington      713335 2020-01-21      1       0         0.0   \n",
       "1       53061  Washington      713335 2020-01-22      1       0         0.0   \n",
       "2       53061  Washington      713335 2020-01-23      1       0         0.0   \n",
       "3       53061  Washington      713335 2020-01-24      1       0         0.0   \n",
       "4       53061  Washington      713335 2020-01-25      1       0         0.0   \n",
       "...       ...         ...         ...        ...    ...     ...         ...   \n",
       "139797  31071    Nebraska        2049 2020-05-12      1       0         0.0   \n",
       "139798  31071    Nebraska        2049 2020-05-13      1       0         0.0   \n",
       "139799  17047    Illinois        6721 2020-05-13      2       0         0.0   \n",
       "139800  19063        Iowa       10302 2020-05-13      1       0         0.0   \n",
       "139801  31147    Nebraska        8363 2020-05-13      1       0         0.0   \n",
       "\n",
       "        case_rate  \n",
       "0        0.140187  \n",
       "1        0.140187  \n",
       "2        0.140187  \n",
       "3        0.140187  \n",
       "4        0.140187  \n",
       "...           ...  \n",
       "139797  48.804295  \n",
       "139798  48.804295  \n",
       "139799  29.757477  \n",
       "139800   9.706853  \n",
       "139801  11.957432  \n",
       "\n",
       "[139802 rows x 8 columns]"
      ]
     },
     "execution_count": 58,
     "metadata": {},
     "output_type": "execute_result"
    }
   ],
   "source": [
    "per100k = pd.merge(nyt, geo, how='inner', left_on=['fips'], right_on=['fips'])\n",
    "per100k = per100k[['fips', 'state', 'population', 'date', 'cases', 'deaths']]\n",
    "per100k['death_rate'] = per100k.apply(lambda row: (row['deaths']/row['population'])*100000, axis=1)\n",
    "per100k['case_rate'] = per100k.apply(lambda row: (row['cases']/row['population'])*100000, axis=1)\n",
    "per100k\n"
   ]
  },
  {
   "cell_type": "code",
   "execution_count": 59,
   "metadata": {},
   "outputs": [],
   "source": [
    "ten = per100k[per100k['case_rate'] > 10].groupby('fips').min()\n",
    "ten = ten[['date']]\n",
    "ten.columns = ['date_10']\n",
    "#ten['date_10'].fillna(datetime(2020,5,15))"
   ]
  },
  {
   "cell_type": "code",
   "execution_count": 60,
   "metadata": {},
   "outputs": [],
   "source": [
    "# Temportal stuff\n",
    "ts_df = pd.merge(per100k, ten, how='left', left_on=['fips'], right_on=['fips'])\n",
    "ts_df = pd.merge(ts_df, sip, how='left', left_on=['state'], right_on=['state'])\n"
   ]
  },
  {
   "cell_type": "code",
   "execution_count": 63,
   "metadata": {},
   "outputs": [],
   "source": [
    "def days_since(row, calc_date):\n",
    "    row['days_since_sip'] = int((calc_date - row['sip']).days)\n",
    "    lifted = int((calc_date - row['sip_lifted']).days)\n",
    "    if(lifted < 0):\n",
    "        lifted = 0\n",
    "    row['days_since_sip_lifted'] = lifted\n",
    "    ten_per = row['date_10']\n",
    "    if pd.isnull(ten_per):\n",
    "        row['days_since_10p100k'] = 0\n",
    "    else:\n",
    "        row['days_since_10p100k'] = int((calc_date - ten_per).days)\n",
    "    return row\n",
    "ts_df['case_rate'] = ts_df['case_rate'].fillna(0)\n",
    "ts_df['death_rate'] = ts_df['death_rate'].fillna(0)\n",
    "ts_df = ts_df.apply(days_since, axis=1, args=[(datetime(2020,5,15))])\n"
   ]
  },
  {
   "cell_type": "code",
   "execution_count": 65,
   "metadata": {},
   "outputs": [],
   "source": [
    "ts_df.to_csv('./data/ts_df.csv', header=False)\n"
   ]
  },
  {
   "cell_type": "code",
   "execution_count": 64,
   "metadata": {},
   "outputs": [
    {
     "data": {
      "text/html": [
       "<div>\n",
       "<style scoped>\n",
       "    .dataframe tbody tr th:only-of-type {\n",
       "        vertical-align: middle;\n",
       "    }\n",
       "\n",
       "    .dataframe tbody tr th {\n",
       "        vertical-align: top;\n",
       "    }\n",
       "\n",
       "    .dataframe thead th {\n",
       "        text-align: right;\n",
       "    }\n",
       "</style>\n",
       "<table border=\"1\" class=\"dataframe\">\n",
       "  <thead>\n",
       "    <tr style=\"text-align: right;\">\n",
       "      <th></th>\n",
       "      <th>fips</th>\n",
       "      <th>state</th>\n",
       "      <th>population</th>\n",
       "      <th>date</th>\n",
       "      <th>cases</th>\n",
       "      <th>deaths</th>\n",
       "      <th>death_rate</th>\n",
       "      <th>case_rate</th>\n",
       "      <th>date_10</th>\n",
       "      <th>sip</th>\n",
       "      <th>sip_lifted</th>\n",
       "      <th>days_since_sip</th>\n",
       "      <th>days_since_sip_lifted</th>\n",
       "      <th>days_since_10p100k</th>\n",
       "    </tr>\n",
       "  </thead>\n",
       "  <tbody>\n",
       "    <tr>\n",
       "      <th>0</th>\n",
       "      <td>53061</td>\n",
       "      <td>Washington</td>\n",
       "      <td>713335</td>\n",
       "      <td>2020-01-21</td>\n",
       "      <td>1</td>\n",
       "      <td>0</td>\n",
       "      <td>0.0</td>\n",
       "      <td>0.140187</td>\n",
       "      <td>2020-03-12</td>\n",
       "      <td>2020-03-23</td>\n",
       "      <td>2020-05-31</td>\n",
       "      <td>53</td>\n",
       "      <td>0</td>\n",
       "      <td>64</td>\n",
       "    </tr>\n",
       "    <tr>\n",
       "      <th>1</th>\n",
       "      <td>53061</td>\n",
       "      <td>Washington</td>\n",
       "      <td>713335</td>\n",
       "      <td>2020-01-22</td>\n",
       "      <td>1</td>\n",
       "      <td>0</td>\n",
       "      <td>0.0</td>\n",
       "      <td>0.140187</td>\n",
       "      <td>2020-03-12</td>\n",
       "      <td>2020-03-23</td>\n",
       "      <td>2020-05-31</td>\n",
       "      <td>53</td>\n",
       "      <td>0</td>\n",
       "      <td>64</td>\n",
       "    </tr>\n",
       "    <tr>\n",
       "      <th>2</th>\n",
       "      <td>53061</td>\n",
       "      <td>Washington</td>\n",
       "      <td>713335</td>\n",
       "      <td>2020-01-23</td>\n",
       "      <td>1</td>\n",
       "      <td>0</td>\n",
       "      <td>0.0</td>\n",
       "      <td>0.140187</td>\n",
       "      <td>2020-03-12</td>\n",
       "      <td>2020-03-23</td>\n",
       "      <td>2020-05-31</td>\n",
       "      <td>53</td>\n",
       "      <td>0</td>\n",
       "      <td>64</td>\n",
       "    </tr>\n",
       "    <tr>\n",
       "      <th>3</th>\n",
       "      <td>53061</td>\n",
       "      <td>Washington</td>\n",
       "      <td>713335</td>\n",
       "      <td>2020-01-24</td>\n",
       "      <td>1</td>\n",
       "      <td>0</td>\n",
       "      <td>0.0</td>\n",
       "      <td>0.140187</td>\n",
       "      <td>2020-03-12</td>\n",
       "      <td>2020-03-23</td>\n",
       "      <td>2020-05-31</td>\n",
       "      <td>53</td>\n",
       "      <td>0</td>\n",
       "      <td>64</td>\n",
       "    </tr>\n",
       "    <tr>\n",
       "      <th>4</th>\n",
       "      <td>53061</td>\n",
       "      <td>Washington</td>\n",
       "      <td>713335</td>\n",
       "      <td>2020-01-25</td>\n",
       "      <td>1</td>\n",
       "      <td>0</td>\n",
       "      <td>0.0</td>\n",
       "      <td>0.140187</td>\n",
       "      <td>2020-03-12</td>\n",
       "      <td>2020-03-23</td>\n",
       "      <td>2020-05-31</td>\n",
       "      <td>53</td>\n",
       "      <td>0</td>\n",
       "      <td>64</td>\n",
       "    </tr>\n",
       "    <tr>\n",
       "      <th>...</th>\n",
       "      <td>...</td>\n",
       "      <td>...</td>\n",
       "      <td>...</td>\n",
       "      <td>...</td>\n",
       "      <td>...</td>\n",
       "      <td>...</td>\n",
       "      <td>...</td>\n",
       "      <td>...</td>\n",
       "      <td>...</td>\n",
       "      <td>...</td>\n",
       "      <td>...</td>\n",
       "      <td>...</td>\n",
       "      <td>...</td>\n",
       "      <td>...</td>\n",
       "    </tr>\n",
       "    <tr>\n",
       "      <th>139797</th>\n",
       "      <td>31071</td>\n",
       "      <td>Nebraska</td>\n",
       "      <td>2049</td>\n",
       "      <td>2020-05-12</td>\n",
       "      <td>1</td>\n",
       "      <td>0</td>\n",
       "      <td>0.0</td>\n",
       "      <td>48.804295</td>\n",
       "      <td>2020-05-12</td>\n",
       "      <td>2020-05-15</td>\n",
       "      <td>2020-05-15</td>\n",
       "      <td>0</td>\n",
       "      <td>0</td>\n",
       "      <td>3</td>\n",
       "    </tr>\n",
       "    <tr>\n",
       "      <th>139798</th>\n",
       "      <td>31071</td>\n",
       "      <td>Nebraska</td>\n",
       "      <td>2049</td>\n",
       "      <td>2020-05-13</td>\n",
       "      <td>1</td>\n",
       "      <td>0</td>\n",
       "      <td>0.0</td>\n",
       "      <td>48.804295</td>\n",
       "      <td>2020-05-12</td>\n",
       "      <td>2020-05-15</td>\n",
       "      <td>2020-05-15</td>\n",
       "      <td>0</td>\n",
       "      <td>0</td>\n",
       "      <td>3</td>\n",
       "    </tr>\n",
       "    <tr>\n",
       "      <th>139799</th>\n",
       "      <td>17047</td>\n",
       "      <td>Illinois</td>\n",
       "      <td>6721</td>\n",
       "      <td>2020-05-13</td>\n",
       "      <td>2</td>\n",
       "      <td>0</td>\n",
       "      <td>0.0</td>\n",
       "      <td>29.757477</td>\n",
       "      <td>2020-05-13</td>\n",
       "      <td>2020-03-20</td>\n",
       "      <td>2020-05-29</td>\n",
       "      <td>56</td>\n",
       "      <td>0</td>\n",
       "      <td>2</td>\n",
       "    </tr>\n",
       "    <tr>\n",
       "      <th>139800</th>\n",
       "      <td>19063</td>\n",
       "      <td>Iowa</td>\n",
       "      <td>10302</td>\n",
       "      <td>2020-05-13</td>\n",
       "      <td>1</td>\n",
       "      <td>0</td>\n",
       "      <td>0.0</td>\n",
       "      <td>9.706853</td>\n",
       "      <td>NaT</td>\n",
       "      <td>2020-05-15</td>\n",
       "      <td>2020-05-15</td>\n",
       "      <td>0</td>\n",
       "      <td>0</td>\n",
       "      <td>0</td>\n",
       "    </tr>\n",
       "    <tr>\n",
       "      <th>139801</th>\n",
       "      <td>31147</td>\n",
       "      <td>Nebraska</td>\n",
       "      <td>8363</td>\n",
       "      <td>2020-05-13</td>\n",
       "      <td>1</td>\n",
       "      <td>0</td>\n",
       "      <td>0.0</td>\n",
       "      <td>11.957432</td>\n",
       "      <td>2020-05-13</td>\n",
       "      <td>2020-05-15</td>\n",
       "      <td>2020-05-15</td>\n",
       "      <td>0</td>\n",
       "      <td>0</td>\n",
       "      <td>2</td>\n",
       "    </tr>\n",
       "  </tbody>\n",
       "</table>\n",
       "<p>139802 rows × 14 columns</p>\n",
       "</div>"
      ],
      "text/plain": [
       "         fips       state  population       date  cases  deaths  death_rate  \\\n",
       "0       53061  Washington      713335 2020-01-21      1       0         0.0   \n",
       "1       53061  Washington      713335 2020-01-22      1       0         0.0   \n",
       "2       53061  Washington      713335 2020-01-23      1       0         0.0   \n",
       "3       53061  Washington      713335 2020-01-24      1       0         0.0   \n",
       "4       53061  Washington      713335 2020-01-25      1       0         0.0   \n",
       "...       ...         ...         ...        ...    ...     ...         ...   \n",
       "139797  31071    Nebraska        2049 2020-05-12      1       0         0.0   \n",
       "139798  31071    Nebraska        2049 2020-05-13      1       0         0.0   \n",
       "139799  17047    Illinois        6721 2020-05-13      2       0         0.0   \n",
       "139800  19063        Iowa       10302 2020-05-13      1       0         0.0   \n",
       "139801  31147    Nebraska        8363 2020-05-13      1       0         0.0   \n",
       "\n",
       "        case_rate    date_10        sip sip_lifted  days_since_sip  \\\n",
       "0        0.140187 2020-03-12 2020-03-23 2020-05-31              53   \n",
       "1        0.140187 2020-03-12 2020-03-23 2020-05-31              53   \n",
       "2        0.140187 2020-03-12 2020-03-23 2020-05-31              53   \n",
       "3        0.140187 2020-03-12 2020-03-23 2020-05-31              53   \n",
       "4        0.140187 2020-03-12 2020-03-23 2020-05-31              53   \n",
       "...           ...        ...        ...        ...             ...   \n",
       "139797  48.804295 2020-05-12 2020-05-15 2020-05-15               0   \n",
       "139798  48.804295 2020-05-12 2020-05-15 2020-05-15               0   \n",
       "139799  29.757477 2020-05-13 2020-03-20 2020-05-29              56   \n",
       "139800   9.706853        NaT 2020-05-15 2020-05-15               0   \n",
       "139801  11.957432 2020-05-13 2020-05-15 2020-05-15               0   \n",
       "\n",
       "        days_since_sip_lifted  days_since_10p100k  \n",
       "0                           0                  64  \n",
       "1                           0                  64  \n",
       "2                           0                  64  \n",
       "3                           0                  64  \n",
       "4                           0                  64  \n",
       "...                       ...                 ...  \n",
       "139797                      0                   3  \n",
       "139798                      0                   3  \n",
       "139799                      0                   2  \n",
       "139800                      0                   0  \n",
       "139801                      0                   2  \n",
       "\n",
       "[139802 rows x 14 columns]"
      ]
     },
     "execution_count": 64,
     "metadata": {},
     "output_type": "execute_result"
    }
   ],
   "source": [
    "ts_df"
   ]
  },
  {
   "cell_type": "code",
   "execution_count": 89,
   "metadata": {},
   "outputs": [],
   "source": [
    "# Geography and demographics\n",
    "big_df = pd.merge(geo, election, how='left', left_on=['fips'], right_on=['fips'])\n",
    "big_df = pd.merge(big_df, intl_index[['fips', 'international']], how='left', left_on=['fips'], right_on=['fips'])\n"
   ]
  },
  {
   "cell_type": "code",
   "execution_count": 90,
   "metadata": {},
   "outputs": [
    {
     "data": {
      "text/html": [
       "<div>\n",
       "<style scoped>\n",
       "    .dataframe tbody tr th:only-of-type {\n",
       "        vertical-align: middle;\n",
       "    }\n",
       "\n",
       "    .dataframe tbody tr th {\n",
       "        vertical-align: top;\n",
       "    }\n",
       "\n",
       "    .dataframe thead th {\n",
       "        text-align: right;\n",
       "    }\n",
       "</style>\n",
       "<table border=\"1\" class=\"dataframe\">\n",
       "  <thead>\n",
       "    <tr style=\"text-align: right;\">\n",
       "      <th></th>\n",
       "      <th>sc</th>\n",
       "      <th>fips</th>\n",
       "      <th>state</th>\n",
       "      <th>county</th>\n",
       "      <th>population</th>\n",
       "      <th>area-km</th>\n",
       "      <th>per_dem</th>\n",
       "      <th>per_gop</th>\n",
       "      <th>international</th>\n",
       "    </tr>\n",
       "  </thead>\n",
       "  <tbody>\n",
       "    <tr>\n",
       "      <th>0</th>\n",
       "      <td>Alabama:Autauga</td>\n",
       "      <td>1001</td>\n",
       "      <td>Alabama</td>\n",
       "      <td>Autauga</td>\n",
       "      <td>54571</td>\n",
       "      <td>1539.582</td>\n",
       "      <td>0.239569</td>\n",
       "      <td>0.734358</td>\n",
       "      <td>1.000000</td>\n",
       "    </tr>\n",
       "    <tr>\n",
       "      <th>1</th>\n",
       "      <td>Alabama:Baldwin</td>\n",
       "      <td>1003</td>\n",
       "      <td>Alabama</td>\n",
       "      <td>Baldwin</td>\n",
       "      <td>182265</td>\n",
       "      <td>4117.522</td>\n",
       "      <td>0.195653</td>\n",
       "      <td>0.773515</td>\n",
       "      <td>1.000000</td>\n",
       "    </tr>\n",
       "    <tr>\n",
       "      <th>2</th>\n",
       "      <td>Alabama:Barbour</td>\n",
       "      <td>1005</td>\n",
       "      <td>Alabama</td>\n",
       "      <td>Barbour</td>\n",
       "      <td>27457</td>\n",
       "      <td>2291.819</td>\n",
       "      <td>0.466603</td>\n",
       "      <td>0.522714</td>\n",
       "      <td>1.000000</td>\n",
       "    </tr>\n",
       "    <tr>\n",
       "      <th>3</th>\n",
       "      <td>Alabama:Bibb</td>\n",
       "      <td>1007</td>\n",
       "      <td>Alabama</td>\n",
       "      <td>Bibb</td>\n",
       "      <td>22915</td>\n",
       "      <td>1612.481</td>\n",
       "      <td>0.214220</td>\n",
       "      <td>0.769662</td>\n",
       "      <td>1.000000</td>\n",
       "    </tr>\n",
       "    <tr>\n",
       "      <th>4</th>\n",
       "      <td>Alabama:Blount</td>\n",
       "      <td>1009</td>\n",
       "      <td>Alabama</td>\n",
       "      <td>Blount</td>\n",
       "      <td>57322</td>\n",
       "      <td>1669.962</td>\n",
       "      <td>0.084699</td>\n",
       "      <td>0.898519</td>\n",
       "      <td>1.000000</td>\n",
       "    </tr>\n",
       "    <tr>\n",
       "      <th>...</th>\n",
       "      <td>...</td>\n",
       "      <td>...</td>\n",
       "      <td>...</td>\n",
       "      <td>...</td>\n",
       "      <td>...</td>\n",
       "      <td>...</td>\n",
       "      <td>...</td>\n",
       "      <td>...</td>\n",
       "      <td>...</td>\n",
       "    </tr>\n",
       "    <tr>\n",
       "      <th>3138</th>\n",
       "      <td>Wyoming:Sweetwater</td>\n",
       "      <td>56037</td>\n",
       "      <td>Wyoming</td>\n",
       "      <td>Sweetwater</td>\n",
       "      <td>43806</td>\n",
       "      <td>27004.897</td>\n",
       "      <td>0.194046</td>\n",
       "      <td>0.729428</td>\n",
       "      <td>1.000000</td>\n",
       "    </tr>\n",
       "    <tr>\n",
       "      <th>3139</th>\n",
       "      <td>Wyoming:Teton</td>\n",
       "      <td>56039</td>\n",
       "      <td>Wyoming</td>\n",
       "      <td>Teton</td>\n",
       "      <td>21294</td>\n",
       "      <td>10347.984</td>\n",
       "      <td>0.600608</td>\n",
       "      <td>0.321945</td>\n",
       "      <td>1.000000</td>\n",
       "    </tr>\n",
       "    <tr>\n",
       "      <th>3140</th>\n",
       "      <td>Wyoming:Uinta</td>\n",
       "      <td>56041</td>\n",
       "      <td>Wyoming</td>\n",
       "      <td>Uinta</td>\n",
       "      <td>21118</td>\n",
       "      <td>5390.450</td>\n",
       "      <td>0.149261</td>\n",
       "      <td>0.764187</td>\n",
       "      <td>179025.335253</td>\n",
       "    </tr>\n",
       "    <tr>\n",
       "      <th>3141</th>\n",
       "      <td>Wyoming:Washakie</td>\n",
       "      <td>56043</td>\n",
       "      <td>Wyoming</td>\n",
       "      <td>Washakie</td>\n",
       "      <td>8533</td>\n",
       "      <td>5797.815</td>\n",
       "      <td>0.143203</td>\n",
       "      <td>0.783580</td>\n",
       "      <td>1.000000</td>\n",
       "    </tr>\n",
       "    <tr>\n",
       "      <th>3142</th>\n",
       "      <td>Wyoming:Weston</td>\n",
       "      <td>56045</td>\n",
       "      <td>Wyoming</td>\n",
       "      <td>Weston</td>\n",
       "      <td>7208</td>\n",
       "      <td>6211.021</td>\n",
       "      <td>0.088182</td>\n",
       "      <td>0.869226</td>\n",
       "      <td>1.000000</td>\n",
       "    </tr>\n",
       "  </tbody>\n",
       "</table>\n",
       "<p>3143 rows × 9 columns</p>\n",
       "</div>"
      ],
      "text/plain": [
       "                      sc   fips    state      county  population    area-km  \\\n",
       "0        Alabama:Autauga   1001  Alabama     Autauga       54571   1539.582   \n",
       "1        Alabama:Baldwin   1003  Alabama     Baldwin      182265   4117.522   \n",
       "2        Alabama:Barbour   1005  Alabama     Barbour       27457   2291.819   \n",
       "3           Alabama:Bibb   1007  Alabama        Bibb       22915   1612.481   \n",
       "4         Alabama:Blount   1009  Alabama      Blount       57322   1669.962   \n",
       "...                  ...    ...      ...         ...         ...        ...   \n",
       "3138  Wyoming:Sweetwater  56037  Wyoming  Sweetwater       43806  27004.897   \n",
       "3139       Wyoming:Teton  56039  Wyoming       Teton       21294  10347.984   \n",
       "3140       Wyoming:Uinta  56041  Wyoming       Uinta       21118   5390.450   \n",
       "3141    Wyoming:Washakie  56043  Wyoming    Washakie        8533   5797.815   \n",
       "3142      Wyoming:Weston  56045  Wyoming      Weston        7208   6211.021   \n",
       "\n",
       "       per_dem   per_gop  international  \n",
       "0     0.239569  0.734358       1.000000  \n",
       "1     0.195653  0.773515       1.000000  \n",
       "2     0.466603  0.522714       1.000000  \n",
       "3     0.214220  0.769662       1.000000  \n",
       "4     0.084699  0.898519       1.000000  \n",
       "...        ...       ...            ...  \n",
       "3138  0.194046  0.729428       1.000000  \n",
       "3139  0.600608  0.321945       1.000000  \n",
       "3140  0.149261  0.764187  179025.335253  \n",
       "3141  0.143203  0.783580       1.000000  \n",
       "3142  0.088182  0.869226       1.000000  \n",
       "\n",
       "[3143 rows x 9 columns]"
      ]
     },
     "execution_count": 90,
     "metadata": {},
     "output_type": "execute_result"
    }
   ],
   "source": [
    "big_df"
   ]
  },
  {
   "cell_type": "code",
   "execution_count": 94,
   "metadata": {},
   "outputs": [],
   "source": [
    "big_df['pop_density'] = big_df['population']/big_df['area-km']\n",
    "\n",
    "demo_df = big_df.drop([ 'population', 'area-km'], axis=1)\n",
    "\n"
   ]
  },
  {
   "cell_type": "code",
   "execution_count": 95,
   "metadata": {},
   "outputs": [],
   "source": [
    "final_df = pd.merge(ts_df, demo_df, how='left', left_on=['fips'], right_on=['fips'])"
   ]
  },
  {
   "cell_type": "code",
   "execution_count": 97,
   "metadata": {},
   "outputs": [],
   "source": [
    "final_df = final_df[['fips',\n",
    "                     #'date',\n",
    "                     'death_rate',\n",
    "                     'case_rate',\n",
    "                     'days_since_sip',\n",
    "                     'days_since_sip_lifted',\n",
    "                     'days_since_10p100k',\n",
    "                     #'median_hhi',\n",
    "                     #'hs',\n",
    "                     #'ba_plus',\n",
    "                     #'ma_plus',\n",
    "                     #'median_house_price',\n",
    "                     #'median_rent',\n",
    "                     #'percent_big_buildings',\n",
    "                     #'percent_commuter',\n",
    "                     'international',\n",
    "                     #'percent_over_65',\n",
    "                     'pop_density',\n",
    "                     #'hh_density'\n",
    "                    ]]"
   ]
  },
  {
   "cell_type": "code",
   "execution_count": 101,
   "metadata": {},
   "outputs": [
    {
     "name": "stdout",
     "output_type": "stream",
     "text": [
      "<class 'pandas.core.frame.DataFrame'>\n",
      "Int64Index: 139802 entries, 0 to 139801\n",
      "Data columns (total 8 columns):\n",
      " #   Column                 Non-Null Count   Dtype  \n",
      "---  ------                 --------------   -----  \n",
      " 0   fips                   139802 non-null  object \n",
      " 1   death_rate             139802 non-null  float64\n",
      " 2   case_rate              139802 non-null  float64\n",
      " 3   days_since_sip         139802 non-null  int64  \n",
      " 4   days_since_sip_lifted  139802 non-null  int64  \n",
      " 5   days_since_10p100k     139802 non-null  int64  \n",
      " 6   international          139802 non-null  float64\n",
      " 7   pop_density            139802 non-null  float64\n",
      "dtypes: float64(4), int64(3), object(1)\n",
      "memory usage: 9.6+ MB\n"
     ]
    }
   ],
   "source": [
    "final_df.info()"
   ]
  },
  {
   "cell_type": "code",
   "execution_count": 99,
   "metadata": {},
   "outputs": [],
   "source": [
    "save_df = final_df.drop(['death_rate', 'fips'], axis=1).set_index('case_rate')\n",
    "save_trainval, save_test = train_test_split(save_df) \n",
    "save_train, save_val = train_test_split(save_trainval) \n",
    "\n",
    "save_train.to_csv('./data/train3k.csv', header=False)\n",
    "save_val.to_csv('./data/val3k.csv', header=False)\n",
    "save_test.to_csv('./data/test3k.csv', header=False)\n",
    "save_df.to_csv('./data/merged3k.csv')"
   ]
  },
  {
   "cell_type": "code",
   "execution_count": 104,
   "metadata": {},
   "outputs": [],
   "source": [
    "y = final_df['case_rate']\n",
    "X = final_df.drop(['case_rate', 'death_rate'], axis=1).set_index('fips')\n"
   ]
  },
  {
   "cell_type": "code",
   "execution_count": 105,
   "metadata": {},
   "outputs": [
    {
     "data": {
      "image/png": "[encoded data removed]",
      "text/plain": [
       "<Figure size 1728x1728 with 25 Axes>"
      ]
     },
     "metadata": {
      "needs_background": "light"
     },
     "output_type": "display_data"
    }
   ],
   "source": [
    "xxx = pd.plotting.scatter_matrix(X, figsize=(24,24))"
   ]
  },
  {
   "cell_type": "code",
   "execution_count": 106,
   "metadata": {},
   "outputs": [
    {
     "data": {
      "text/html": [
       "<div>\n",
       "<style scoped>\n",
       "    .dataframe tbody tr th:only-of-type {\n",
       "        vertical-align: middle;\n",
       "    }\n",
       "\n",
       "    .dataframe tbody tr th {\n",
       "        vertical-align: top;\n",
       "    }\n",
       "\n",
       "    .dataframe thead th {\n",
       "        text-align: right;\n",
       "    }\n",
       "</style>\n",
       "<table border=\"1\" class=\"dataframe\">\n",
       "  <thead>\n",
       "    <tr style=\"text-align: right;\">\n",
       "      <th></th>\n",
       "      <th>days_since_sip</th>\n",
       "      <th>days_since_sip_lifted</th>\n",
       "      <th>days_since_10p100k</th>\n",
       "      <th>international</th>\n",
       "      <th>pop_density</th>\n",
       "    </tr>\n",
       "  </thead>\n",
       "  <tbody>\n",
       "    <tr>\n",
       "      <th>count</th>\n",
       "      <td>139802.000000</td>\n",
       "      <td>139802.000000</td>\n",
       "      <td>139802.000000</td>\n",
       "      <td>1.398020e+05</td>\n",
       "      <td>139802.000000</td>\n",
       "    </tr>\n",
       "    <tr>\n",
       "      <th>mean</th>\n",
       "      <td>44.496395</td>\n",
       "      <td>7.653918</td>\n",
       "      <td>43.097066</td>\n",
       "      <td>9.088445e+05</td>\n",
       "      <td>109.533839</td>\n",
       "    </tr>\n",
       "    <tr>\n",
       "      <th>std</th>\n",
       "      <td>14.795031</td>\n",
       "      <td>7.422488</td>\n",
       "      <td>10.658370</td>\n",
       "      <td>2.474759e+06</td>\n",
       "      <td>367.676339</td>\n",
       "    </tr>\n",
       "    <tr>\n",
       "      <th>min</th>\n",
       "      <td>0.000000</td>\n",
       "      <td>0.000000</td>\n",
       "      <td>0.000000</td>\n",
       "      <td>1.000000e+00</td>\n",
       "      <td>0.014828</td>\n",
       "    </tr>\n",
       "    <tr>\n",
       "      <th>25%</th>\n",
       "      <td>44.000000</td>\n",
       "      <td>0.000000</td>\n",
       "      <td>40.000000</td>\n",
       "      <td>1.000000e+00</td>\n",
       "      <td>10.289144</td>\n",
       "    </tr>\n",
       "    <tr>\n",
       "      <th>50%</th>\n",
       "      <td>48.000000</td>\n",
       "      <td>7.000000</td>\n",
       "      <td>45.000000</td>\n",
       "      <td>2.671042e+04</td>\n",
       "      <td>23.648309</td>\n",
       "    </tr>\n",
       "    <tr>\n",
       "      <th>75%</th>\n",
       "      <td>53.000000</td>\n",
       "      <td>15.000000</td>\n",
       "      <td>50.000000</td>\n",
       "      <td>6.246062e+05</td>\n",
       "      <td>66.067442</td>\n",
       "    </tr>\n",
       "    <tr>\n",
       "      <th>max</th>\n",
       "      <td>57.000000</td>\n",
       "      <td>21.000000</td>\n",
       "      <td>67.000000</td>\n",
       "      <td>2.412791e+07</td>\n",
       "      <td>6632.907743</td>\n",
       "    </tr>\n",
       "  </tbody>\n",
       "</table>\n",
       "</div>"
      ],
      "text/plain": [
       "       days_since_sip  days_since_sip_lifted  days_since_10p100k  \\\n",
       "count   139802.000000          139802.000000       139802.000000   \n",
       "mean        44.496395               7.653918           43.097066   \n",
       "std         14.795031               7.422488           10.658370   \n",
       "min          0.000000               0.000000            0.000000   \n",
       "25%         44.000000               0.000000           40.000000   \n",
       "50%         48.000000               7.000000           45.000000   \n",
       "75%         53.000000              15.000000           50.000000   \n",
       "max         57.000000              21.000000           67.000000   \n",
       "\n",
       "       international    pop_density  \n",
       "count   1.398020e+05  139802.000000  \n",
       "mean    9.088445e+05     109.533839  \n",
       "std     2.474759e+06     367.676339  \n",
       "min     1.000000e+00       0.014828  \n",
       "25%     1.000000e+00      10.289144  \n",
       "50%     2.671042e+04      23.648309  \n",
       "75%     6.246062e+05      66.067442  \n",
       "max     2.412791e+07    6632.907743  "
      ]
     },
     "execution_count": 106,
     "metadata": {},
     "output_type": "execute_result"
    }
   ],
   "source": [
    "X.describe()"
   ]
  },
  {
   "cell_type": "code",
   "execution_count": 107,
   "metadata": {},
   "outputs": [
    {
     "name": "stdout",
     "output_type": "stream",
     "text": [
      "Mean cross-validation score: 0.08\n"
     ]
    },
    {
     "data": {
      "image/png": "[encoded data removed]",
      "text/plain": [
       "<Figure size 864x864 with 1 Axes>"
      ]
     },
     "metadata": {
      "needs_background": "light"
     },
     "output_type": "display_data"
    }
   ],
   "source": [
    "from sklearn.linear_model import LinearRegression \n",
    "from sklearn.preprocessing import PolynomialFeatures \n",
    "from sklearn.model_selection import train_test_split\n",
    "from sklearn.metrics import r2_score\n",
    "from sklearn.model_selection import cross_val_score, KFold\n",
    "\n",
    "X_train, X_test, y_train, y_test = train_test_split(X, y, test_size=0.2, random_state=42)\n",
    "\n",
    "poly = PolynomialFeatures(degree=2)\n",
    "X_train_poly = poly.fit_transform(X_train)\n",
    "poly.fit(X_train_poly, y_train)\n",
    "lin = LinearRegression()\n",
    "lin.fit(X_train_poly, y_train)\n",
    "X_test_poly = poly.fit_transform(X_test)\n",
    "predicted = lin.predict(X_test_poly)\n",
    "\n",
    "fig, ax = plt.subplots(figsize=(12,12))\n",
    "fig.tight_layout()\n",
    "plt.scatter(y_test, predicted, color = 'blue', label=\"actual data\") \n",
    "#lin.score(X_train_poly, y_train)\n",
    "#lin.score(X_test_poly, y_test)\n",
    "scores = cross_val_score(lin, X_train,y_train, cv=5)\n",
    "print(\"Mean cross-validation score: %.2f\" % scores.mean())"
   ]
  },
  {
   "cell_type": "code",
   "execution_count": 108,
   "metadata": {},
   "outputs": [
    {
     "data": {
      "text/plain": [
       "319.6521860072686"
      ]
     },
     "execution_count": 108,
     "metadata": {},
     "output_type": "execute_result"
    }
   ],
   "source": [
    "rms = sqrt(mean_squared_error(y_test, predicted))\n",
    "rms"
   ]
  },
  {
   "cell_type": "code",
   "execution_count": 109,
   "metadata": {},
   "outputs": [],
   "source": [
    "#%pip install xgboost\n",
    "import xgboost as xgb"
   ]
  },
  {
   "cell_type": "code",
   "execution_count": 110,
   "metadata": {},
   "outputs": [
    {
     "name": "stdout",
     "output_type": "stream",
     "text": [
      "XGBRegressor(base_score=None, booster=None, colsample_bylevel=None,\n",
      "             colsample_bynode=None, colsample_bytree=None, gamma=None,\n",
      "             gpu_id=None, importance_type='gain', interaction_constraints=None,\n",
      "             learning_rate=None, max_delta_step=None, max_depth=None,\n",
      "             min_child_weight=None, missing=nan, monotone_constraints=None,\n",
      "             n_estimators=100, n_jobs=None, num_parallel_tree=None,\n",
      "             objective='reg:squarederror', random_state=None, reg_alpha=None,\n",
      "             reg_lambda=None, scale_pos_weight=None, subsample=None,\n",
      "             tree_method=None, validate_parameters=False, verbosity=None)\n"
     ]
    }
   ],
   "source": [
    "xgbr = xgb.XGBRegressor() \n",
    "print(xgbr)"
   ]
  },
  {
   "cell_type": "code",
   "execution_count": 111,
   "metadata": {},
   "outputs": [
    {
     "data": {
      "text/plain": [
       "XGBRegressor(base_score=0.5, booster=None, colsample_bylevel=1,\n",
       "             colsample_bynode=1, colsample_bytree=1, gamma=0, gpu_id=-1,\n",
       "             importance_type='gain', interaction_constraints=None,\n",
       "             learning_rate=0.300000012, max_delta_step=0, max_depth=6,\n",
       "             min_child_weight=1, missing=nan, monotone_constraints=None,\n",
       "             n_estimators=100, n_jobs=0, num_parallel_tree=1,\n",
       "             objective='reg:squarederror', random_state=0, reg_alpha=0,\n",
       "             reg_lambda=1, scale_pos_weight=1, subsample=1, tree_method=None,\n",
       "             validate_parameters=False, verbosity=None)"
      ]
     },
     "execution_count": 111,
     "metadata": {},
     "output_type": "execute_result"
    }
   ],
   "source": [
    "xgbr.fit(X_train, y_train)"
   ]
  },
  {
   "cell_type": "code",
   "execution_count": 112,
   "metadata": {},
   "outputs": [
    {
     "name": "stdout",
     "output_type": "stream",
     "text": [
      "Mean cross-validation score: 0.39\n"
     ]
    },
    {
     "data": {
      "image/png": "[encoded data removed]",
      "text/plain": [
       "<Figure size 864x864 with 1 Axes>"
      ]
     },
     "metadata": {
      "needs_background": "light"
     },
     "output_type": "display_data"
    }
   ],
   "source": [
    "predicted = xgbr.predict(X_test)\n",
    "fig, ax = plt.subplots(figsize=(12,12))\n",
    "fig.tight_layout()\n",
    "plt.scatter(y_test, predicted, color = 'blue', label=\"actual data\") \n",
    "#lin.score(X_train_poly, y_train)\n",
    "#lin.score(X_test_poly, y_test)\n",
    "scores = cross_val_score(xgbr, X_train, y_train, cv=5)\n",
    "\n",
    "print(\"Mean cross-validation score: %.2f\" % scores.mean())"
   ]
  },
  {
   "cell_type": "code",
   "execution_count": 113,
   "metadata": {},
   "outputs": [
    {
     "data": {
      "text/plain": [
       "260.3495636242682"
      ]
     },
     "execution_count": 113,
     "metadata": {},
     "output_type": "execute_result"
    }
   ],
   "source": [
    "from sklearn.metrics import mean_squared_error\n",
    "from math import sqrt\n",
    "\n",
    "rms = sqrt(mean_squared_error(y_test, predicted))\n",
    "rms"
   ]
  },
  {
   "cell_type": "code",
   "execution_count": 114,
   "metadata": {},
   "outputs": [
    {
     "data": {
      "text/plain": [
       "334.1763126444482"
      ]
     },
     "execution_count": 114,
     "metadata": {},
     "output_type": "execute_result"
    }
   ],
   "source": [
    "dumb = np.full(len(y_test), np.mean(y_test))\n",
    "sqrt(mean_squared_error(y_test, dumb))"
   ]
  },
  {
   "cell_type": "code",
   "execution_count": 293,
   "metadata": {},
   "outputs": [
    {
     "data": {
      "text/plain": [
       "count     827.000000\n",
       "mean      297.587130\n",
       "std       427.774475\n",
       "min         0.000000\n",
       "25%        82.204788\n",
       "50%       163.425530\n",
       "75%       320.521947\n",
       "max      4005.300189\n",
       "Name: case_rate, dtype: float64"
      ]
     },
     "execution_count": 293,
     "metadata": {},
     "output_type": "execute_result"
    }
   ],
   "source": [
    "y.describe()"
   ]
  },
  {
   "cell_type": "code",
   "execution_count": null,
   "metadata": {},
   "outputs": [],
   "source": []
  }
 ],
 "metadata": {
  "kernelspec": {
   "display_name": "Python 3 (Data Science)",
   "language": "python",
   "name": "python3__SAGEMAKER_INTERNAL__arn:aws:sagemaker:us-east-1:081325390199:image/datascience-1.0"
  },
  "language_info": {
   "codemirror_mode": {
    "name": "ipython",
    "version": 3
   },
   "file_extension": ".py",
   "mimetype": "text/x-python",
   "name": "python",
   "nbconvert_exporter": "python",
   "pygments_lexer": "ipython3",
   "version": "3.7.6"
  }
 },
 "nbformat": 4,
 "nbformat_minor": 4
}
