{
 "cells": [
  {
   "cell_type": "code",
   "execution_count": 2,
   "metadata": {},
   "outputs": [],
   "source": [
    "%load_ext autoreload\n",
    "%autoreload 2"
   ]
  },
  {
   "cell_type": "code",
   "execution_count": 3,
   "metadata": {},
   "outputs": [
    {
     "name": "stdout",
     "output_type": "stream",
     "text": [
      "/root/predicting-coronavirus\n"
     ]
    }
   ],
   "source": [
    "import pandas as pd\n",
    "import numpy as np\n",
    "import matplotlib.pyplot as plt\n",
    "import io\n",
    "import os\n",
    "import sys\n",
    "import time\n",
    "import json\n",
    "from IPython.display import display\n",
    "from time import strftime, gmtime\n",
    "import boto3\n",
    "import re\n",
    "from datetime import datetime\n",
    "\n",
    "import sagemaker\n",
    "from sagemaker import get_execution_role\n",
    "from sagemaker.predictor import csv_serializer\n",
    "from sagemaker.debugger import rule_configs, Rule, DebuggerHookConfig\n",
    "from sagemaker.model_monitor import DataCaptureConfig, DatasetFormat, DefaultModelMonitor\n",
    "from sagemaker.s3 import S3Uploader, S3Downloader\n",
    "\n",
    "from smexperiments.experiment import Experiment\n",
    "from smexperiments.trial import Trial\n",
    "from smexperiments.trial_component import TrialComponent\n",
    "from smexperiments.tracker import Tracker\n",
    "\n",
    "%cd /root/predicting-coronavirus\n",
    "#%pip install mpu\n",
    "import src.data_import as di\n",
    "import src.data_tools as dt\n",
    "\n",
    "%matplotlib inline\n",
    "pd.set_option('display.max_columns', 500)  \n",
    "pd.set_option('display.max_rows', 500)   "
   ]
  },
  {
   "cell_type": "code",
   "execution_count": 4,
   "metadata": {},
   "outputs": [],
   "source": [
    "sess = boto3.Session()\n",
    "sm = sess.client('sagemaker')\n",
    "role = sagemaker.get_execution_role()"
   ]
  },
  {
   "cell_type": "code",
   "execution_count": 11,
   "metadata": {},
   "outputs": [
    {
     "name": "stdout",
     "output_type": "stream",
     "text": [
      "s3://sagemaker-studio-us-east-1-752222400982/capstone2/merged/val3k.csv\n"
     ]
    }
   ],
   "source": [
    "account_id = sess.client('sts', region_name=sess.region_name).get_caller_identity()[\"Account\"]\n",
    "bucket = 'sagemaker-studio-{}-{}'.format(sess.region_name, account_id)\n",
    "prefix = 'capstone2'\n",
    "\n",
    "try:\n",
    "    if sess.region_name == \"us-east-1\":\n",
    "        sess.client('s3').create_bucket(Bucket=bucket)\n",
    "    else:\n",
    "        sess.client('s3').create_bucket(Bucket=bucket, \n",
    "                                        CreateBucketConfiguration={'LocationConstraint': sess.region_name})\n",
    "except Exception as e:\n",
    "    print(\"Looks like you already have a bucket of this name. That's good. Uploading the data files...\")\n",
    "\n",
    "# Return the URLs of the uploaded file, so they can be reviewed or used elsewhere\n",
    "s3url = S3Uploader.upload('data/train3k.csv', 's3://{}/{}/{}'.format(bucket, prefix,'merged'))\n",
    "s3url = S3Uploader.upload('data/val3k.csv', 's3://{}/{}/{}'.format(bucket, prefix,'merged'))\n",
    "print(s3url)\n"
   ]
  },
  {
   "cell_type": "code",
   "execution_count": 12,
   "metadata": {},
   "outputs": [],
   "source": [
    "from sagemaker.amazon.amazon_estimator import get_image_uri\n",
    "docker_image_name = get_image_uri(boto3.Session().region_name, 'xgboost', repo_version='1.0-1')"
   ]
  },
  {
   "cell_type": "code",
   "execution_count": 13,
   "metadata": {},
   "outputs": [],
   "source": [
    "s3_input_train = sagemaker.s3_input(s3_data='s3://sagemaker-studio-us-east-1-752222400982/capstone2/merged/train2.csv', content_type='csv')\n",
    "s3_input_val = sagemaker.s3_input(s3_data='s3://sagemaker-studio-us-east-1-752222400982/capstone2/merged/val2.csv', content_type='csv')\n"
   ]
  },
  {
   "cell_type": "code",
   "execution_count": 14,
   "metadata": {},
   "outputs": [],
   "source": [
    "smsess = sagemaker.session.Session()\n",
    "\n",
    "create_date = strftime(\"%Y-%m-%d-%H-%M-%S\", gmtime())\n",
    "coronavirus_xgb_experiment = Experiment.create(experiment_name=\"capstone2-xgb-{}\".format(create_date), \n",
    "                                              description=\"Using xgboost to predict coronavirus cases\", \n",
    "                                              sagemaker_boto_client=boto3.client('sagemaker'))"
   ]
  },
  {
   "cell_type": "code",
   "execution_count": 15,
   "metadata": {},
   "outputs": [
    {
     "name": "stderr",
     "output_type": "stream",
     "text": [
      "INFO:root:_TuningJob.start_new!!!\n",
      "INFO:sagemaker:Creating hyperparameter tuning job with name: sagemaker-xgboost-200514-2147\n"
     ]
    }
   ],
   "source": [
    "from sagemaker.tuner import IntegerParameter, ContinuousParameter, HyperparameterTuner\n",
    "\n",
    "trial = Trial.create(trial_name=\"algorithm-mode-trial-{}\".format(strftime(\"%Y-%m-%d-%H-%M-%S\", gmtime())), \n",
    "                     experiment_name=coronavirus_xgb_experiment.experiment_name,\n",
    "                     sagemaker_boto_client=boto3.client('sagemaker'))\n",
    "\n",
    "xgb = sagemaker.estimator.Estimator(image_name=docker_image_name,\n",
    "                                    role=role,\n",
    "                                    train_instance_count=1, \n",
    "                                    train_use_spot_instances=True,\n",
    "                                    train_max_run=300,\n",
    "                                    train_max_wait=600,\n",
    "                                    train_instance_type='ml.m4.xlarge',\n",
    "                                    output_path='s3://{}/{}/output'.format(bucket, prefix),\n",
    "                                    base_job_name=\"xgboost-coronavirus\",\n",
    "                                    sagemaker_session=smsess)\n",
    "\n",
    "xgb.set_hyperparameters(num_round=60, \n",
    "                        objective='reg:squarederror',\n",
    "                        verbosity=1,\n",
    "                        eta=0.1,\n",
    "                        gamma=4)\n",
    "\n",
    "hp_ranges = {\n",
    "    \"max_depth\":IntegerParameter(4, 12),\n",
    "    \"subsample\":ContinuousParameter(0.4, 0.8),\n",
    "#    \"eta\":ContinuousParameter(0.03,0.2),\n",
    "    \"min_child_weight\":IntegerParameter(1, 8),\n",
    "#    \"alpha\":ContinuousParameter(0, 2)\n",
    "}\n",
    "\n",
    "tuner = HyperparameterTuner(\n",
    "    xgb,\n",
    "    'validation:rmse',\n",
    "    hp_ranges,\n",
    "    objective_type='Minimize',\n",
    "    max_jobs=200,\n",
    "    max_parallel_jobs=10\n",
    ")\n",
    "\n",
    "tuner.fit({'train': s3_input_train,\n",
    "         'validation': s3_input_val}, \n",
    "                experiment_config={\n",
    "                    \"ExperimentName\": coronavirus_xgb_experiment.experiment_name, \n",
    "                    \"TrialName\": trial.trial_name,\n",
    "                    \"TrialComponentDisplayName\": \"HPO Job\"\n",
    "                })\n",
    "\n"
   ]
  },
  {
   "cell_type": "code",
   "execution_count": null,
   "metadata": {},
   "outputs": [],
   "source": [
    "from sagemaker.analytics import HyperparameterTuningJobAnalytics\n",
    "\n",
    "exp = HyperparameterTuningJobAnalytics(\n",
    "    sagemaker_session=smsess,\n",
    "    hyperparameter_tuning_job_name=tuner.latest_tuning_job.name)\n",
    "df = exp.dataframe()\n",
    "df.sort_values(by='FinalObjectiveValue')"
   ]
  },
  {
   "cell_type": "code",
   "execution_count": null,
   "metadata": {},
   "outputs": [],
   "source": []
  }
 ],
 "metadata": {
  "kernelspec": {
   "display_name": "Python 3 (Data Science)",
   "language": "python",
   "name": "python3__SAGEMAKER_INTERNAL__arn:aws:sagemaker:us-east-1:081325390199:image/datascience-1.0"
  },
  "language_info": {
   "codemirror_mode": {
    "name": "ipython",
    "version": 3
   },
   "file_extension": ".py",
   "mimetype": "text/x-python",
   "name": "python",
   "nbconvert_exporter": "python",
   "pygments_lexer": "ipython3",
   "version": "3.7.6"
  }
 },
 "nbformat": 4,
 "nbformat_minor": 4
}
